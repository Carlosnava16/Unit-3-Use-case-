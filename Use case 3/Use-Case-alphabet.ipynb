{
  "cells": [
    {
      "cell_type": "code",
      "execution_count": 1,
      "metadata": {
        "colab": {
          "base_uri": "https://localhost:8080/"
        },
        "id": "zwSthVK7mPi8",
        "outputId": "31f33309-da45-4eae-ddd0-8de58ba5d6a1"
      },
      "outputs": [
        {
          "output_type": "stream",
          "name": "stdout",
          "text": [
            "Archivos extraídos en /content/asl_subset\n"
          ]
        }
      ],
      "source": [
        "import zipfile\n",
        "\n",
        "zip_path = \"/content/asl_subset.zip\"\n",
        "extract_path = \"/content/asl_subset\"\n",
        "\n",
        "with zipfile.ZipFile(zip_path, 'r') as zip_ref:\n",
        "    zip_ref.extractall(extract_path)\n",
        "\n",
        "print(f\"Archivos extraídos en {extract_path}\")\n"
      ]
    },
    {
      "cell_type": "code",
      "execution_count": 2,
      "metadata": {
        "colab": {
          "base_uri": "https://localhost:8080/"
        },
        "id": "N_hMRpM6rI4k",
        "outputId": "95907545-dd58-4a10-a04c-9d6050170c1f"
      },
      "outputs": [
        {
          "output_type": "stream",
          "name": "stdout",
          "text": [
            "A_test.jpg  G_test.jpg\tM_test.jpg\t  R_test.jpg\t  W_test.jpg\n",
            "B_test.jpg  H_test.jpg\tnothing_test.jpg  space_test.jpg  X_test.jpg\n",
            "C_test.jpg  I_test.jpg\tN_test.jpg\t  S_test.jpg\t  Y_test.jpg\n",
            "D_test.jpg  J_test.jpg\tO_test.jpg\t  T_test.jpg\t  Z_test.jpg\n",
            "E_test.jpg  K_test.jpg\tP_test.jpg\t  U_test.jpg\n",
            "F_test.jpg  L_test.jpg\tQ_test.jpg\t  V_test.jpg\n"
          ]
        }
      ],
      "source": [
        "!ls /content/asl_subset/archive/asl_alphabet_test/asl_alphabet_test\n",
        "\n",
        "\n"
      ]
    },
    {
      "cell_type": "code",
      "execution_count": 3,
      "metadata": {
        "id": "iOaruHJPsdZ7"
      },
      "outputs": [],
      "source": [
        "train_dir = \"/content/asl_subset/archive/asl_alphabet_train/asl_alphabet_train\"\n"
      ]
    },
    {
      "cell_type": "code",
      "execution_count": 4,
      "metadata": {
        "colab": {
          "base_uri": "https://localhost:8080/"
        },
        "id": "cG4i0ITHsevy",
        "outputId": "70ebc67a-cca2-449e-b795-f78b2e4d7e5a"
      },
      "outputs": [
        {
          "output_type": "stream",
          "name": "stdout",
          "text": [
            "Imágenes de test organizadas en carpetas por clase en: /content/asl_subset/archive/asl_alphabet_test/sorted_test\n"
          ]
        }
      ],
      "source": [
        "import os\n",
        "from pathlib import Path\n",
        "import shutil\n",
        "\n",
        "test_src = Path(\"/content/asl_subset/archive/asl_alphabet_test/asl_alphabet_test\")\n",
        "test_dst = Path(\"/content/asl_subset/archive/asl_alphabet_test/sorted_test\")\n",
        "\n",
        "test_dst.mkdir(exist_ok=True)\n",
        "\n",
        "for img_file in test_src.iterdir():\n",
        "    if img_file.is_file() and img_file.suffix in [\".jpg\", \".png\"]:\n",
        "        # Extraer la letra del nombre, ej. \"A_test.jpg\" -> \"A\"\n",
        "        letter = img_file.stem.split(\"_\")[0]\n",
        "        class_dir = test_dst / letter\n",
        "        class_dir.mkdir(exist_ok=True)\n",
        "        shutil.copy2(img_file, class_dir / img_file.name)\n",
        "\n",
        "print(\"Imágenes de test organizadas en carpetas por clase en:\", test_dst)\n"
      ]
    },
    {
      "cell_type": "code",
      "execution_count": 5,
      "metadata": {
        "colab": {
          "base_uri": "https://localhost:8080/"
        },
        "id": "aOJ6ZH8VsigS",
        "outputId": "f3195ab6-b729-4f62-c2ff-2329da515712"
      },
      "outputs": [
        {
          "output_type": "stream",
          "name": "stdout",
          "text": [
            "Found 7200 images belonging to 3 classes.\n",
            "Found 1800 images belonging to 3 classes.\n",
            "Found 28 images belonging to 28 classes.\n"
          ]
        }
      ],
      "source": [
        "from tensorflow.keras.preprocessing.image import ImageDataGenerator\n",
        "\n",
        "train_datagen = ImageDataGenerator(\n",
        "    rescale=1./255,\n",
        "    rotation_range=15,\n",
        "    width_shift_range=0.1,\n",
        "    height_shift_range=0.1,\n",
        "    zoom_range=0.1,\n",
        "    shear_range=0.1,\n",
        "    horizontal_flip=True,\n",
        "    validation_split=0.2\n",
        ")\n",
        "\n",
        "test_datagen = ImageDataGenerator(rescale=1./255)\n",
        "\n",
        "train_generator = train_datagen.flow_from_directory(\n",
        "    train_dir,\n",
        "    target_size=(64, 64),\n",
        "    batch_size=32,\n",
        "    class_mode='categorical',\n",
        "    subset='training'\n",
        ")\n",
        "\n",
        "val_generator = train_datagen.flow_from_directory(\n",
        "    train_dir,\n",
        "    target_size=(64, 64),\n",
        "    batch_size=32,\n",
        "    class_mode='categorical',\n",
        "    subset='validation'\n",
        ")\n",
        "\n",
        "test_generator = test_datagen.flow_from_directory(\n",
        "    str(test_dst),\n",
        "    target_size=(64, 64),\n",
        "    batch_size=32,\n",
        "    class_mode='categorical',\n",
        "    shuffle=False\n",
        ")\n"
      ]
    },
    {
      "cell_type": "code",
      "execution_count": 6,
      "metadata": {
        "colab": {
          "base_uri": "https://localhost:8080/"
        },
        "id": "yv2kMWSxs4lt",
        "outputId": "824e5ed9-d6af-40e8-ca50-8c0937e8e67f"
      },
      "outputs": [
        {
          "output_type": "stream",
          "name": "stdout",
          "text": [
            "Imágenes de test organizadas solo para clases seleccionadas en: /content/asl_subset/archive/asl_alphabet_test/sorted_test\n"
          ]
        }
      ],
      "source": [
        "import os\n",
        "from pathlib import Path\n",
        "import shutil\n",
        "\n",
        "test_src = Path(\"/content/asl_subset/archive/asl_alphabet_test/asl_alphabet_test\")\n",
        "test_dst = Path(\"/content/asl_subset/archive/asl_alphabet_test/sorted_test\")\n",
        "\n",
        "test_dst.mkdir(exist_ok=True)\n",
        "\n",
        "# Solo estas clases\n",
        "selected_classes = ['A', 'B', 'C']\n",
        "\n",
        "for img_file in test_src.iterdir():\n",
        "    if img_file.is_file() and img_file.suffix in [\".jpg\", \".png\"]:\n",
        "        letter = img_file.stem.split(\"_\")[0]\n",
        "        if letter in selected_classes:\n",
        "            class_dir = test_dst / letter\n",
        "            class_dir.mkdir(exist_ok=True)\n",
        "            shutil.copy2(img_file, class_dir / img_file.name)\n",
        "\n",
        "print(\"Imágenes de test organizadas solo para clases seleccionadas en:\", test_dst)\n"
      ]
    },
    {
      "cell_type": "code",
      "execution_count": 7,
      "metadata": {
        "colab": {
          "base_uri": "https://localhost:8080/"
        },
        "id": "26sbGJcbs6GE",
        "outputId": "bc71da32-c34c-4233-fdcf-053a14bf1edf"
      },
      "outputs": [
        {
          "output_type": "stream",
          "name": "stdout",
          "text": [
            "Found 28 images belonging to 28 classes.\n",
            "Test set tiene 28 imágenes en 28 clases\n"
          ]
        }
      ],
      "source": [
        "test_generator = test_datagen.flow_from_directory(\n",
        "    str(test_dst),\n",
        "    target_size=(64, 64),\n",
        "    batch_size=32,\n",
        "    class_mode='categorical',\n",
        "    shuffle=False\n",
        ")\n",
        "\n",
        "print(f\"Test set tiene {test_generator.samples} imágenes en {len(test_generator.class_indices)} clases\")\n"
      ]
    },
    {
      "cell_type": "code",
      "execution_count": 8,
      "metadata": {
        "colab": {
          "base_uri": "https://localhost:8080/"
        },
        "id": "RVe2OXf1tF0O",
        "outputId": "9226705c-5a14-44ca-ba97-1d0b6ee8086f"
      },
      "outputs": [
        {
          "output_type": "stream",
          "name": "stdout",
          "text": [
            "Test reorganizado para clases: ['A', 'B', 'C']\n"
          ]
        }
      ],
      "source": [
        "import shutil\n",
        "from pathlib import Path\n",
        "\n",
        "test_src = Path(\"/content/asl_subset/archive/asl_alphabet_test/asl_alphabet_test\")\n",
        "test_dst = Path(\"/content/asl_subset/archive/asl_alphabet_test/sorted_test\")\n",
        "\n",
        "selected_classes = ['A', 'B', 'C']\n",
        "\n",
        "# Crear carpeta destino vacía (borra si existe)\n",
        "if test_dst.exists():\n",
        "    shutil.rmtree(test_dst)\n",
        "test_dst.mkdir()\n",
        "\n",
        "for img_file in test_src.iterdir():\n",
        "    if img_file.is_file() and img_file.suffix in [\".jpg\", \".png\"]:\n",
        "        letter = img_file.stem.split(\"_\")[0]\n",
        "        if letter in selected_classes:\n",
        "            class_dir = test_dst / letter\n",
        "            class_dir.mkdir(exist_ok=True)\n",
        "            shutil.copy2(img_file, class_dir / img_file.name)\n",
        "\n",
        "print(f\"Test reorganizado para clases: {selected_classes}\")\n"
      ]
    },
    {
      "cell_type": "code",
      "execution_count": 9,
      "metadata": {
        "colab": {
          "base_uri": "https://localhost:8080/"
        },
        "id": "GbtSabUNtG0B",
        "outputId": "03b79d75-5dd7-4a39-e1a6-7a3eaba68733"
      },
      "outputs": [
        {
          "output_type": "stream",
          "name": "stdout",
          "text": [
            "Found 3 images belonging to 3 classes.\n",
            "Test set tiene 3 imágenes en 3 clases\n"
          ]
        }
      ],
      "source": [
        "test_generator = test_datagen.flow_from_directory(\n",
        "    str(test_dst),\n",
        "    target_size=(64, 64),\n",
        "    batch_size=32,\n",
        "    class_mode='categorical',\n",
        "    shuffle=False\n",
        ")\n",
        "\n",
        "print(f\"Test set tiene {test_generator.samples} imágenes en {len(test_generator.class_indices)} clases\")\n"
      ]
    },
    {
      "cell_type": "code",
      "execution_count": 10,
      "metadata": {
        "id": "qFcvLyWxwyFR"
      },
      "outputs": [],
      "source": [
        "def cnn_simple(input_shape, num_classes):\n",
        "    model = models.Sequential([\n",
        "        layers.Conv2D(32, (3,3), activation='relu', input_shape=input_shape),  # 1. Extrae 32 filtros pequeños (3x3), activación ReLU para no linealidad\n",
        "        layers.MaxPooling2D(),  # 2. Reduce resolución a la mitad para resumir características y reducir cómputo\n",
        "        layers.Conv2D(64, (3,3), activation='relu'),  # 3. Extrae más características, ahora 64 filtros\n",
        "        layers.MaxPooling2D(),  # 4. Otra reducción de tamaño\n",
        "        layers.Flatten(),  # 5. Aplana las características para pasarlas a capas densas\n",
        "        layers.Dense(128, activation='relu'),  # 6. Capa totalmente conectada para aprender combinaciones no lineales\n",
        "        layers.Dense(num_classes, activation='softmax')  # 7. Salida con activación softmax para clasificación múltiple\n",
        "    ])\n",
        "    return model\n"
      ]
    },
    {
      "cell_type": "markdown",
      "metadata": {
        "id": "SX1h3feQwzdL"
      },
      "source": [
        "Esta red es pequeña y rápida para entrenar. Usa dos bloques Conv+Pooling para extraer características y luego una capa densa para clasificar. Ideal para empezar y comparar.\n",
        "\n"
      ]
    },
    {
      "cell_type": "code",
      "execution_count": 11,
      "metadata": {
        "id": "COTkklf6w1yX"
      },
      "outputs": [],
      "source": [
        "def cnn_medium(input_shape, num_classes):\n",
        "    model = models.Sequential([\n",
        "        layers.Conv2D(32, (3,3), activation='relu', input_shape=input_shape),  # Bloque 1\n",
        "        layers.Conv2D(64, (3,3), activation='relu'),  # Más profundidad para aprender características complejas\n",
        "        layers.MaxPooling2D(),  # Reduce tamaño\n",
        "\n",
        "        layers.Conv2D(128, (3,3), activation='relu'),  # Bloque 2 con más filtros\n",
        "        layers.MaxPooling2D(),\n",
        "\n",
        "        layers.Flatten(),\n",
        "        layers.Dense(256, activation='relu'),  # Más neuronas para mayor capacidad de aprendizaje\n",
        "        layers.Dense(num_classes, activation='softmax')\n",
        "    ])\n",
        "    return model\n"
      ]
    },
    {
      "cell_type": "markdown",
      "metadata": {
        "id": "P-0u-h7Iw40k"
      },
      "source": [
        "Más profunda que la simple, con más filtros y capas. Puede aprender patrones más complejos, pero tarda más en entrenar.\n",
        "\n"
      ]
    },
    {
      "cell_type": "code",
      "execution_count": 12,
      "metadata": {
        "id": "Ws-s1aFCw8Tl"
      },
      "outputs": [],
      "source": [
        "def cnn_deep(input_shape, num_classes):\n",
        "    model = models.Sequential([\n",
        "        layers.Conv2D(32, (3,3), activation='relu', input_shape=input_shape),\n",
        "        layers.Conv2D(64, (3,3), activation='relu'),\n",
        "        layers.MaxPooling2D(),\n",
        "\n",
        "        layers.Conv2D(128, (3,3), activation='relu'),\n",
        "        layers.Conv2D(256, (3,3), activation='relu'),\n",
        "        layers.MaxPooling2D(),\n",
        "\n",
        "        layers.Flatten(),\n",
        "        layers.Dense(512, activation='relu'),  # Mucha capacidad para patrones complejos\n",
        "        layers.Dense(num_classes, activation='softmax')\n",
        "    ])\n",
        "    return model\n"
      ]
    },
    {
      "cell_type": "markdown",
      "metadata": {
        "id": "GwgcG63OxDIT"
      },
      "source": [
        "La más profunda, con cinco capas Conv y una densa muy grande. Ideal para datos complejos o mucho más volumen, pero requiere más tiempo y recursos para entrenar.\n",
        "\n"
      ]
    },
    {
      "cell_type": "code",
      "execution_count": null,
      "metadata": {
        "colab": {
          "base_uri": "https://localhost:8080/",
          "height": 1000
        },
        "id": "zqsW8AVEx-OQ",
        "outputId": "9373a5ab-3782-4e0d-b32f-6e21468878d4"
      },
      "outputs": [
        {
          "metadata": {
            "tags": null
          },
          "name": "stderr",
          "output_type": "stream",
          "text": [
            "/usr/local/lib/python3.11/dist-packages/keras/src/layers/convolutional/base_conv.py:113: UserWarning: Do not pass an `input_shape`/`input_dim` argument to a layer. When using Sequential models, prefer using an `Input(shape)` object as the first layer in the model instead.\n",
            "  super().__init__(activity_regularizer=activity_regularizer, **kwargs)\n",
            "/usr/local/lib/python3.11/dist-packages/keras/src/trainers/data_adapters/py_dataset_adapter.py:121: UserWarning: Your `PyDataset` class should call `super().__init__(**kwargs)` in its constructor. `**kwargs` can include `workers`, `use_multiprocessing`, `max_queue_size`. Do not pass these arguments to `fit()`, as they will be ignored.\n",
            "  self._warn_if_super_not_called()\n"
          ]
        },
        {
          "metadata": {
            "tags": null
          },
          "name": "stdout",
          "output_type": "stream",
          "text": [
            "Entrenando modelo: cnn_simple\n",
            "Epoch 1/15\n",
            "\u001b[1m225/225\u001b[0m \u001b[32m━━━━━━━━━━━━━━━━━━━━\u001b[0m\u001b[37m\u001b[0m \u001b[1m57s\u001b[0m 242ms/step - accuracy: 0.6180 - loss: 0.8065 - val_accuracy: 0.7811 - val_loss: 0.4823\n",
            "Epoch 2/15\n",
            "\u001b[1m225/225\u001b[0m \u001b[32m━━━━━━━━━━━━━━━━━━━━\u001b[0m\u001b[37m\u001b[0m \u001b[1m56s\u001b[0m 248ms/step - accuracy: 0.9070 - loss: 0.2310 - val_accuracy: 0.8422 - val_loss: 0.3771\n",
            "Epoch 3/15\n",
            "\u001b[1m225/225\u001b[0m \u001b[32m━━━━━━━━━━━━━━━━━━━━\u001b[0m\u001b[37m\u001b[0m \u001b[1m56s\u001b[0m 247ms/step - accuracy: 0.9479 - loss: 0.1335 - val_accuracy: 0.8450 - val_loss: 0.3762\n",
            "Epoch 4/15\n",
            "\u001b[1m225/225\u001b[0m \u001b[32m━━━━━━━━━━━━━━━━━━━━\u001b[0m\u001b[37m\u001b[0m \u001b[1m58s\u001b[0m 259ms/step - accuracy: 0.9586 - loss: 0.1175 - val_accuracy: 0.9178 - val_loss: 0.2119\n",
            "Epoch 5/15\n",
            "\u001b[1m225/225\u001b[0m \u001b[32m━━━━━━━━━━━━━━━━━━━━\u001b[0m\u001b[37m\u001b[0m \u001b[1m55s\u001b[0m 244ms/step - accuracy: 0.9664 - loss: 0.0904 - val_accuracy: 0.8611 - val_loss: 0.3372\n",
            "Epoch 6/15\n",
            "\u001b[1m225/225\u001b[0m \u001b[32m━━━━━━━━━━━━━━━━━━━━\u001b[0m\u001b[37m\u001b[0m \u001b[1m53s\u001b[0m 236ms/step - accuracy: 0.9762 - loss: 0.0649 - val_accuracy: 0.9233 - val_loss: 0.2051\n",
            "Epoch 7/15\n",
            "\u001b[1m225/225\u001b[0m \u001b[32m━━━━━━━━━━━━━━━━━━━━\u001b[0m\u001b[37m\u001b[0m \u001b[1m55s\u001b[0m 245ms/step - accuracy: 0.9828 - loss: 0.0537 - val_accuracy: 0.8933 - val_loss: 0.2772\n",
            "Epoch 8/15\n",
            "\u001b[1m225/225\u001b[0m \u001b[32m━━━━━━━━━━━━━━━━━━━━\u001b[0m\u001b[37m\u001b[0m \u001b[1m55s\u001b[0m 244ms/step - accuracy: 0.9852 - loss: 0.0434 - val_accuracy: 0.9289 - val_loss: 0.1831\n",
            "Epoch 9/15\n",
            "\u001b[1m225/225\u001b[0m \u001b[32m━━━━━━━━━━━━━━━━━━━━\u001b[0m\u001b[37m\u001b[0m \u001b[1m58s\u001b[0m 258ms/step - accuracy: 0.9858 - loss: 0.0477 - val_accuracy: 0.9322 - val_loss: 0.1911\n",
            "Epoch 10/15\n",
            "\u001b[1m225/225\u001b[0m \u001b[32m━━━━━━━━━━━━━━━━━━━━\u001b[0m\u001b[37m\u001b[0m \u001b[1m58s\u001b[0m 258ms/step - accuracy: 0.9901 - loss: 0.0273 - val_accuracy: 0.9406 - val_loss: 0.1594\n",
            "Epoch 11/15\n",
            "\u001b[1m225/225\u001b[0m \u001b[32m━━━━━━━━━━━━━━━━━━━━\u001b[0m\u001b[37m\u001b[0m \u001b[1m59s\u001b[0m 260ms/step - accuracy: 0.9900 - loss: 0.0296 - val_accuracy: 0.9583 - val_loss: 0.1174\n",
            "Epoch 12/15\n",
            "\u001b[1m225/225\u001b[0m \u001b[32m━━━━━━━━━━━━━━━━━━━━\u001b[0m\u001b[37m\u001b[0m \u001b[1m54s\u001b[0m 240ms/step - accuracy: 0.9917 - loss: 0.0303 - val_accuracy: 0.9533 - val_loss: 0.1295\n",
            "Epoch 13/15\n",
            "\u001b[1m225/225\u001b[0m \u001b[32m━━━━━━━━━━━━━━━━━━━━\u001b[0m\u001b[37m\u001b[0m \u001b[1m58s\u001b[0m 257ms/step - accuracy: 0.9930 - loss: 0.0267 - val_accuracy: 0.9417 - val_loss: 0.1599\n",
            "Epoch 14/15\n",
            "\u001b[1m225/225\u001b[0m \u001b[32m━━━━━━━━━━━━━━━━━━━━\u001b[0m\u001b[37m\u001b[0m \u001b[1m55s\u001b[0m 242ms/step - accuracy: 0.9909 - loss: 0.0257 - val_accuracy: 0.9478 - val_loss: 0.1511\n",
            "Epoch 15/15\n",
            "\u001b[1m225/225\u001b[0m \u001b[32m━━━━━━━━━━━━━━━━━━━━\u001b[0m\u001b[37m\u001b[0m \u001b[1m58s\u001b[0m 258ms/step - accuracy: 0.9964 - loss: 0.0149 - val_accuracy: 0.9622 - val_loss: 0.1331\n",
            "Evaluando en test:\n",
            "\u001b[1m1/1\u001b[0m \u001b[32m━━━━━━━━━━━━━━━━━━━━\u001b[0m\u001b[37m\u001b[0m \u001b[1m0s\u001b[0m 51ms/step - accuracy: 1.0000 - loss: 9.5367e-07\n",
            "Test accuracy: 1.0000\n"
          ]
        },
        {
          "data": {
            "image/png": "[encoded data removed]",
            "text/plain": [
              "<Figure size 1200x500 with 2 Axes>"
            ]
          },
          "metadata": {},
          "output_type": "display_data"
        },
        {
          "metadata": {
            "tags": null
          },
          "name": "stdout",
          "output_type": "stream",
          "text": [
            "Entrenando modelo: cnn_medium\n",
            "Epoch 1/15\n",
            "\u001b[1m225/225\u001b[0m \u001b[32m━━━━━━━━━━━━━━━━━━━━\u001b[0m\u001b[37m\u001b[0m \u001b[1m188s\u001b[0m 829ms/step - accuracy: 0.6209 - loss: 0.7992 - val_accuracy: 0.8094 - val_loss: 0.3761\n",
            "Epoch 2/15\n",
            "\u001b[1m225/225\u001b[0m \u001b[32m━━━━━━━━━━━━━━━━━━━━\u001b[0m\u001b[37m\u001b[0m \u001b[1m184s\u001b[0m 820ms/step - accuracy: 0.9360 - loss: 0.1769 - val_accuracy: 0.8783 - val_loss: 0.2909\n",
            "Epoch 3/15\n",
            "\u001b[1m225/225\u001b[0m \u001b[32m━━━━━━━━━━━━━━━━━━━━\u001b[0m\u001b[37m\u001b[0m \u001b[1m184s\u001b[0m 820ms/step - accuracy: 0.9670 - loss: 0.0897 - val_accuracy: 0.8550 - val_loss: 0.3457\n",
            "Epoch 4/15\n",
            "\u001b[1m225/225\u001b[0m \u001b[32m━━━━━━━━━━━━━━━━━━━━\u001b[0m\u001b[37m\u001b[0m \u001b[1m185s\u001b[0m 822ms/step - accuracy: 0.9768 - loss: 0.0637 - val_accuracy: 0.9489 - val_loss: 0.1513\n",
            "Epoch 5/15\n",
            "\u001b[1m225/225\u001b[0m \u001b[32m━━━━━━━━━━━━━━━━━━━━\u001b[0m\u001b[37m\u001b[0m \u001b[1m184s\u001b[0m 820ms/step - accuracy: 0.9825 - loss: 0.0468 - val_accuracy: 0.9683 - val_loss: 0.0858\n",
            "Epoch 6/15\n",
            "\u001b[1m225/225\u001b[0m \u001b[32m━━━━━━━━━━━━━━━━━━━━\u001b[0m\u001b[37m\u001b[0m \u001b[1m184s\u001b[0m 816ms/step - accuracy: 0.9878 - loss: 0.0353 - val_accuracy: 0.9494 - val_loss: 0.1495\n",
            "Epoch 7/15\n",
            "\u001b[1m225/225\u001b[0m \u001b[32m━━━━━━━━━━━━━━━━━━━━\u001b[0m\u001b[37m\u001b[0m \u001b[1m179s\u001b[0m 795ms/step - accuracy: 0.9911 - loss: 0.0324 - val_accuracy: 0.9517 - val_loss: 0.1413\n",
            "Epoch 8/15\n",
            "\u001b[1m225/225\u001b[0m \u001b[32m━━━━━━━━━━━━━━━━━━━━\u001b[0m\u001b[37m\u001b[0m \u001b[1m177s\u001b[0m 785ms/step - accuracy: 0.9859 - loss: 0.0397 - val_accuracy: 0.9500 - val_loss: 0.1331\n",
            "Epoch 9/15\n",
            "\u001b[1m225/225\u001b[0m \u001b[32m━━━━━━━━━━━━━━━━━━━━\u001b[0m\u001b[37m\u001b[0m \u001b[1m175s\u001b[0m 779ms/step - accuracy: 0.9919 - loss: 0.0262 - val_accuracy: 0.9639 - val_loss: 0.0908\n",
            "Epoch 10/15\n",
            "\u001b[1m225/225\u001b[0m \u001b[32m━━━━━━━━━━━━━━━━━━━━\u001b[0m\u001b[37m\u001b[0m \u001b[1m201s\u001b[0m 774ms/step - accuracy: 0.9966 - loss: 0.0111 - val_accuracy: 0.9756 - val_loss: 0.0779\n",
            "Epoch 11/15\n",
            "\u001b[1m225/225\u001b[0m \u001b[32m━━━━━━━━━━━━━━━━━━━━\u001b[0m\u001b[37m\u001b[0m \u001b[1m175s\u001b[0m 779ms/step - accuracy: 0.9964 - loss: 0.0121 - val_accuracy: 0.9800 - val_loss: 0.0574\n",
            "Epoch 12/15\n",
            "\u001b[1m225/225\u001b[0m \u001b[32m━━━━━━━━━━━━━━━━━━━━\u001b[0m\u001b[37m\u001b[0m \u001b[1m176s\u001b[0m 782ms/step - accuracy: 0.9928 - loss: 0.0187 - val_accuracy: 0.9706 - val_loss: 0.0822\n",
            "Epoch 13/15\n",
            "\u001b[1m225/225\u001b[0m \u001b[32m━━━━━━━━━━━━━━━━━━━━\u001b[0m\u001b[37m\u001b[0m \u001b[1m175s\u001b[0m 779ms/step - accuracy: 0.9955 - loss: 0.0196 - val_accuracy: 0.9806 - val_loss: 0.0756\n",
            "Epoch 14/15\n",
            "\u001b[1m225/225\u001b[0m \u001b[32m━━━━━━━━━━━━━━━━━━━━\u001b[0m\u001b[37m\u001b[0m \u001b[1m175s\u001b[0m 777ms/step - accuracy: 0.9922 - loss: 0.0229 - val_accuracy: 0.9789 - val_loss: 0.0720\n",
            "Epoch 15/15\n",
            "\u001b[1m225/225\u001b[0m \u001b[32m━━━━━━━━━━━━━━━━━━━━\u001b[0m\u001b[37m\u001b[0m \u001b[1m176s\u001b[0m 782ms/step - accuracy: 0.9961 - loss: 0.0131 - val_accuracy: 0.9600 - val_loss: 0.1112\n",
            "Evaluando en test:\n",
            "\u001b[1m1/1\u001b[0m \u001b[32m━━━━━━━━━━━━━━━━━━━━\u001b[0m\u001b[37m\u001b[0m \u001b[1m0s\u001b[0m 95ms/step - accuracy: 1.0000 - loss: 2.5034e-06\n",
            "Test accuracy: 1.0000\n"
          ]
        },
        {
          "data": {
            "image/png": "[encoded data removed]",
            "text/plain": [
              "<Figure size 1200x500 with 2 Axes>"
            ]
          },
          "metadata": {},
          "output_type": "display_data"
        },
        {
          "output_type": "stream",
          "name": "stdout",
          "text": [
            "Entrenando modelo: cnn_deep\n",
            "Epoch 1/15\n",
            "\u001b[1m225/225\u001b[0m \u001b[32m━━━━━━━━━━━━━━━━━━━━\u001b[0m\u001b[37m\u001b[0m \u001b[1m415s\u001b[0m 2s/step - accuracy: 0.5624 - loss: 0.9174 - val_accuracy: 0.8539 - val_loss: 0.3407\n",
            "Epoch 2/15\n",
            "\u001b[1m225/225\u001b[0m \u001b[32m━━━━━━━━━━━━━━━━━━━━\u001b[0m\u001b[37m\u001b[0m \u001b[1m407s\u001b[0m 2s/step - accuracy: 0.9284 - loss: 0.1935 - val_accuracy: 0.9089 - val_loss: 0.2568\n",
            "Epoch 3/15\n",
            "\u001b[1m225/225\u001b[0m \u001b[32m━━━━━━━━━━━━━━━━━━━━\u001b[0m\u001b[37m\u001b[0m \u001b[1m445s\u001b[0m 2s/step - accuracy: 0.9586 - loss: 0.1207 - val_accuracy: 0.9311 - val_loss: 0.1797\n",
            "Epoch 4/15\n",
            "\u001b[1m225/225\u001b[0m \u001b[32m━━━━━━━━━━━━━━━━━━━━\u001b[0m\u001b[37m\u001b[0m \u001b[1m414s\u001b[0m 2s/step - accuracy: 0.9773 - loss: 0.0706 - val_accuracy: 0.9022 - val_loss: 0.2842\n",
            "Epoch 5/15\n",
            "\u001b[1m225/225\u001b[0m \u001b[32m━━━━━━━━━━━━━━━━━━━━\u001b[0m\u001b[37m\u001b[0m \u001b[1m427s\u001b[0m 2s/step - accuracy: 0.9788 - loss: 0.0561 - val_accuracy: 0.9678 - val_loss: 0.1040\n",
            "Epoch 6/15\n",
            "\u001b[1m225/225\u001b[0m \u001b[32m━━━━━━━━━━━━━━━━━━━━\u001b[0m\u001b[37m\u001b[0m \u001b[1m410s\u001b[0m 2s/step - accuracy: 0.9805 - loss: 0.0604 - val_accuracy: 0.9489 - val_loss: 0.1279\n",
            "Epoch 7/15\n",
            "\u001b[1m225/225\u001b[0m \u001b[32m━━━━━━━━━━━━━━━━━━━━\u001b[0m\u001b[37m\u001b[0m \u001b[1m423s\u001b[0m 2s/step - accuracy: 0.9894 - loss: 0.0259 - val_accuracy: 0.9633 - val_loss: 0.1296\n",
            "Epoch 8/15\n",
            "\u001b[1m225/225\u001b[0m \u001b[32m━━━━━━━━━━━━━━━━━━━━\u001b[0m\u001b[37m\u001b[0m \u001b[1m406s\u001b[0m 2s/step - accuracy: 0.9930 - loss: 0.0216 - val_accuracy: 0.9783 - val_loss: 0.0774\n",
            "Epoch 9/15\n",
            "\u001b[1m225/225\u001b[0m \u001b[32m━━━━━━━━━━━━━━━━━━━━\u001b[0m\u001b[37m\u001b[0m \u001b[1m443s\u001b[0m 2s/step - accuracy: 0.9933 - loss: 0.0190 - val_accuracy: 0.9661 - val_loss: 0.1407\n",
            "Epoch 10/15\n",
            "\u001b[1m225/225\u001b[0m \u001b[32m━━━━━━━━━━━━━━━━━━━━\u001b[0m\u001b[37m\u001b[0m \u001b[1m408s\u001b[0m 2s/step - accuracy: 0.9954 - loss: 0.0149 - val_accuracy: 0.9717 - val_loss: 0.1303\n",
            "Epoch 11/15\n",
            "\u001b[1m225/225\u001b[0m \u001b[32m━━━━━━━━━━━━━━━━━━━━\u001b[0m\u001b[37m\u001b[0m \u001b[1m405s\u001b[0m 2s/step - accuracy: 0.9965 - loss: 0.0110 - val_accuracy: 0.9756 - val_loss: 0.1202\n",
            "Epoch 12/15\n",
            "\u001b[1m225/225\u001b[0m \u001b[32m━━━━━━━━━━━━━━━━━━━━\u001b[0m\u001b[37m\u001b[0m \u001b[1m407s\u001b[0m 2s/step - accuracy: 0.9954 - loss: 0.0143 - val_accuracy: 0.9817 - val_loss: 0.1096\n",
            "Epoch 13/15\n",
            "\u001b[1m225/225\u001b[0m \u001b[32m━━━━━━━━━━━━━━━━━━━━\u001b[0m\u001b[37m\u001b[0m \u001b[1m407s\u001b[0m 2s/step - accuracy: 0.9951 - loss: 0.0163 - val_accuracy: 0.9806 - val_loss: 0.0627\n",
            "Epoch 14/15\n",
            "\u001b[1m225/225\u001b[0m \u001b[32m━━━━━━━━━━━━━━━━━━━━\u001b[0m\u001b[37m\u001b[0m \u001b[1m406s\u001b[0m 2s/step - accuracy: 0.9961 - loss: 0.0122 - val_accuracy: 0.9822 - val_loss: 0.0716\n",
            "Epoch 15/15\n",
            "\u001b[1m185/225\u001b[0m \u001b[32m━━━━━━━━━━━━━━━━\u001b[0m\u001b[37m━━━━\u001b[0m \u001b[1m1:08\u001b[0m 2s/step - accuracy: 0.9940 - loss: 0.0218"
          ]
        }
      ],
      "source": [
        "import tensorflow as tf\n",
        "from tensorflow.keras import layers, models\n",
        "import matplotlib.pyplot as plt\n",
        "\n",
        "def train_and_evaluate(model_fn, train_gen, val_gen, test_gen, input_shape, num_classes, epochs=15):\n",
        "    model = model_fn(input_shape, num_classes)\n",
        "    model.compile(optimizer='adam',\n",
        "                  loss='categorical_crossentropy',\n",
        "                  metrics=['accuracy'])\n",
        "\n",
        "    print(f\"Entrenando modelo: {model_fn.__name__}\")\n",
        "    history = model.fit(\n",
        "        train_gen,\n",
        "        epochs=epochs,\n",
        "        validation_data=val_gen\n",
        "    )\n",
        "\n",
        "    print(\"Evaluando en test:\")\n",
        "    test_loss, test_acc = model.evaluate(test_gen)\n",
        "    print(f\"Test accuracy: {test_acc:.4f}\")\n",
        "\n",
        "    # Graficar entrenamiento\n",
        "    plt.figure(figsize=(12,5))\n",
        "\n",
        "    plt.subplot(1,2,1)\n",
        "    plt.plot(history.history['loss'], label='train_loss')\n",
        "    plt.plot(history.history['val_loss'], label='val_loss')\n",
        "    plt.legend()\n",
        "    plt.title('Pérdida')\n",
        "\n",
        "    plt.subplot(1,2,2)\n",
        "    plt.plot(history.history['accuracy'], label='train_acc')\n",
        "    plt.plot(history.history['val_accuracy'], label='val_acc')\n",
        "    plt.legend()\n",
        "    plt.title('Precisión')\n",
        "\n",
        "    plt.show()\n",
        "\n",
        "    return model, test_acc\n",
        "\n",
        "# 3. Parámetros y generadores ya definidos (ajusta según tu setup)\n",
        "input_shape = (64, 64, 3)\n",
        "num_classes = 3  # Por ejemplo: A, B, C\n",
        "\n",
        "# train_generator, val_generator, test_generator ya deben estar definidos\n",
        "# (como te mostré en la conversación anterior)\n",
        "\n",
        "# 4. Entrenar los 3 modelos y guardar el mejor\n",
        "\n",
        "models_to_train = [cnn_simple, cnn_medium, cnn_deep]\n",
        "best_acc = 0\n",
        "best_model = None\n",
        "best_name = \"\"\n",
        "\n",
        "for model_fn in models_to_train:\n",
        "    model, acc = train_and_evaluate(model_fn, train_generator, val_generator, test_generator, input_shape, num_classes)\n",
        "    if acc > best_acc:\n",
        "        best_acc = acc\n",
        "        best_model = model\n",
        "        best_name = model_fn.__name__\n",
        "\n",
        "print(f\"Mejor modelo: {best_name} con accuracy en test: {best_acc:.4f}\")\n",
        "\n",
        "# 5. Guardar el mejor modelo\n",
        "best_model.save(\"best_asl_model.h5\")\n",
        "print(\"Modelo guardado como best_asl_model.h5\")\n"
      ]
    },
    {
      "cell_type": "code",
      "source": [],
      "metadata": {
        "id": "9GjHHx_rjPPN"
      },
      "execution_count": null,
      "outputs": []
    },
    {
      "cell_type": "code",
      "source": [
        "from tensorflow.keras.models import load_model\n",
        "from tensorflow.keras.preprocessing import image\n",
        "import numpy as np\n",
        "import os\n",
        "\n",
        "# Cargar el mejor modelo\n",
        "model = load_model(\"best_asl_model.h5\")\n",
        "\n",
        "# Ruta de la imagen a predecir (puede ser de tu propio dataset o una foto nueva)\n",
        "img_path = \"/content/asl_subset/archive/asl_alphabet_test/sorted_test/A/A_test.jpg\"\n",
        "\n",
        "# Cargar y procesar imagen\n",
        "img = image.load_img(img_path, target_size=(64,64))\n",
        "img_array = image.img_to_array(img) / 255.0\n",
        "img_array = np.expand_dims(img_array, axis=0)  # Añadir dimensión batch\n",
        "\n",
        "# Predecir\n",
        "pred = model.predict(img_array)\n",
        "predicted_class = np.argmax(pred)\n",
        "class_indices = train_generator.class_indices\n",
        "# Invertir diccionario para obtener letra\n",
        "labels = {v:k for k,v in class_indices.items()}\n",
        "print(\"Predicción:\", labels[predicted_class])\n"
      ],
      "metadata": {
        "colab": {
          "base_uri": "https://localhost:8080/"
        },
        "id": "uKA-FWE5pbuX",
        "outputId": "50e1c273-2086-47f5-9081-c0cbb071083e"
      },
      "execution_count": 14,
      "outputs": [
        {
          "output_type": "stream",
          "name": "stderr",
          "text": [
            "WARNING:absl:Compiled the loaded model, but the compiled metrics have yet to be built. `model.compile_metrics` will be empty until you train or evaluate the model.\n"
          ]
        },
        {
          "output_type": "stream",
          "name": "stdout",
          "text": [
            "\u001b[1m1/1\u001b[0m \u001b[32m━━━━━━━━━━━━━━━━━━━━\u001b[0m\u001b[37m\u001b[0m \u001b[1m0s\u001b[0m 159ms/step\n",
            "Predicción: A\n"
          ]
        }
      ]
    },
    {
      "cell_type": "code",
      "source": [
        "import pandas as pd\n",
        "\n",
        "# Ejemplo de resultados (estos valores cámbialos por los tuyos reales)\n",
        "resultados = [\n",
        "    {\"Modelo\": \"CNN Simple\", \"Train Acc\": 0.92, \"Val Acc\": 0.88, \"Test Acc\": 0.85},\n",
        "    {\"Modelo\": \"CNN Media\", \"Train Acc\": 0.97, \"Val Acc\": 0.93, \"Test Acc\": 0.91},\n",
        "    {\"Modelo\": \"CNN Compleja\", \"Train Acc\": 0.99, \"Val Acc\": 0.95, \"Test Acc\": 0.94}\n",
        "]\n",
        "\n",
        "df_resultados = pd.DataFrame(resultados)\n",
        "print(df_resultados)\n",
        "\n",
        "# Mostrar ordenado por mejor accuracy en test\n",
        "df_ordenado = df_resultados.sort_values(by=\"Test Acc\", ascending=False)\n",
        "print(\"\\nOrdenado por precisión en test:\")\n",
        "print(df_ordenado)\n"
      ],
      "metadata": {
        "colab": {
          "base_uri": "https://localhost:8080/"
        },
        "id": "4qraeh-yqcMR",
        "outputId": "0aee3ccc-16b8-4952-ac47-71262c582491"
      },
      "execution_count": 15,
      "outputs": [
        {
          "output_type": "stream",
          "name": "stdout",
          "text": [
            "         Modelo  Train Acc  Val Acc  Test Acc\n",
            "0    CNN Simple       0.92     0.88      0.85\n",
            "1     CNN Media       0.97     0.93      0.91\n",
            "2  CNN Compleja       0.99     0.95      0.94\n",
            "\n",
            "Ordenado por precisión en test:\n",
            "         Modelo  Train Acc  Val Acc  Test Acc\n",
            "2  CNN Compleja       0.99     0.95      0.94\n",
            "1     CNN Media       0.97     0.93      0.91\n",
            "0    CNN Simple       0.92     0.88      0.85\n"
          ]
        }
      ]
    },
    {
      "cell_type": "code",
      "source": [
        "import numpy as np\n",
        "import matplotlib.pyplot as plt\n",
        "import seaborn as sns\n",
        "from sklearn.metrics import confusion_matrix, classification_report\n",
        "\n",
        "# Obtener predicciones del modelo\n",
        "y_pred_probs = model.predict(test_generator)\n",
        "y_pred = np.argmax(y_pred_probs, axis=1)  # Clase con mayor probabilidad\n",
        "y_true = test_generator.classes  # Etiquetas reales\n",
        "\n",
        "# Calcular matriz de confusión\n",
        "cm = confusion_matrix(y_true, y_pred)\n",
        "\n",
        "# Nombres de las clases\n",
        "class_labels = list(test_generator.class_indices.keys())\n",
        "\n",
        "# Graficar matriz de confusión\n",
        "plt.figure(figsize=(12, 10))\n",
        "sns.heatmap(cm, annot=True, fmt=\"d\", cmap=\"Blues\",\n",
        "            xticklabels=class_labels,\n",
        "            yticklabels=class_labels)\n",
        "plt.xlabel(\"Predicción\")\n",
        "plt.ylabel(\"Real\")\n",
        "plt.title(\"Matriz de Confusión\")\n",
        "plt.show()\n",
        "\n",
        "# Reporte de clasificación\n",
        "print(\"Reporte de Clasificación:\\n\")\n",
        "print(classification_report(y_true, y_pred, target_names=class_labels))\n"
      ],
      "metadata": {
        "colab": {
          "base_uri": "https://localhost:8080/",
          "height": 1000
        },
        "id": "I_6Cdyn0qhhO",
        "outputId": "97ff6661-2a81-4f96-8396-c26a27b4f6d9"
      },
      "execution_count": 16,
      "outputs": [
        {
          "output_type": "stream",
          "name": "stdout",
          "text": [
            "\u001b[1m1/1\u001b[0m \u001b[32m━━━━━━━━━━━━━━━━━━━━\u001b[0m\u001b[37m\u001b[0m \u001b[1m0s\u001b[0m 461ms/step\n"
          ]
        },
        {
          "output_type": "display_data",
          "data": {
            "text/plain": [
              "<Figure size 1200x1000 with 2 Axes>"
            ],
            "image/png": "[encoded data removed]"
          },
          "metadata": {}
        },
        {
          "output_type": "stream",
          "name": "stdout",
          "text": [
            "Reporte de Clasificación:\n",
            "\n",
            "              precision    recall  f1-score   support\n",
            "\n",
            "           A       1.00      1.00      1.00         1\n",
            "           B       1.00      1.00      1.00         1\n",
            "           C       1.00      1.00      1.00         1\n",
            "\n",
            "    accuracy                           1.00         3\n",
            "   macro avg       1.00      1.00      1.00         3\n",
            "weighted avg       1.00      1.00      1.00         3\n",
            "\n"
          ]
        }
      ]
    },
    {
      "cell_type": "code",
      "source": [
        "import pandas as pd\n",
        "import numpy as np\n",
        "from sklearn.metrics import accuracy_score\n",
        "\n",
        "# Accuracy por clase\n",
        "accuracies = []\n",
        "for i, class_name in enumerate(class_labels):\n",
        "    idx = np.where(y_true == i)[0]  # índices de la clase i\n",
        "    acc_class = accuracy_score(y_true[idx], y_pred[idx])\n",
        "    accuracies.append(acc_class)\n",
        "\n",
        "# Crear DataFrame\n",
        "df_accuracy = pd.DataFrame({\n",
        "    \"Clase\": class_labels,\n",
        "    \"Accuracy\": accuracies\n",
        "})\n",
        "\n",
        "# Ordenar de mayor a menor accuracy\n",
        "df_accuracy = df_accuracy.sort_values(by=\"Accuracy\", ascending=False).reset_index(drop=True)\n",
        "\n",
        "# Mostrar tabla\n",
        "print(df_accuracy)\n",
        "\n",
        "# Guardar como CSV\n",
        "df_accuracy.to_csv(\"/content/accuracy_por_clase.csv\", index=False)\n",
        "print(\"\\n✅ Tabla guardada en /content/accuracy_por_clase.csv\")\n"
      ],
      "metadata": {
        "colab": {
          "base_uri": "https://localhost:8080/"
        },
        "id": "z0s6HudwrGqy",
        "outputId": "ef3f29e2-625a-438e-cff5-ecb6ed877d9a"
      },
      "execution_count": 18,
      "outputs": [
        {
          "output_type": "stream",
          "name": "stdout",
          "text": [
            "  Clase  Accuracy\n",
            "0     A       1.0\n",
            "1     B       1.0\n",
            "2     C       1.0\n",
            "\n",
            "✅ Tabla guardada en /content/accuracy_por_clase.csv\n"
          ]
        }
      ]
    },
    {
      "cell_type": "code",
      "source": [
        "import numpy as np\n",
        "import matplotlib.pyplot as plt\n",
        "import seaborn as sns\n",
        "from sklearn.metrics import confusion_matrix, classification_report, precision_recall_fscore_support\n",
        "from tensorflow.keras.preprocessing import image"
      ],
      "metadata": {
        "id": "mab0NBizw-MX"
      },
      "execution_count": 23,
      "outputs": []
    },
    {
      "cell_type": "code",
      "source": [
        "precision, recall, f1, _ = precision_recall_fscore_support(y_true, y_pred)\n",
        "\n",
        "x = np.arange(len(class_labels))\n",
        "width = 0.25\n",
        "\n",
        "plt.figure(figsize=(12,6))\n",
        "plt.bar(x - width, precision, width, label='Precision')\n",
        "plt.bar(x, recall, width, label='Recall')\n",
        "plt.bar(x + width, f1, width, label='F1-score')\n",
        "plt.xticks(x, class_labels)\n",
        "plt.ylim(0,1)\n",
        "plt.ylabel(\"Valor\")\n",
        "plt.title(\"Precision, Recall y F1-score por clase\")\n",
        "plt.legend()\n",
        "plt.savefig(\"/content/metricas_por_clase.png\", dpi=300, bbox_inches='tight')\n",
        "plt.show()"
      ],
      "metadata": {
        "colab": {
          "base_uri": "https://localhost:8080/",
          "height": 545
        },
        "id": "Ol2_EuPrxFyW",
        "outputId": "8fc1ea1e-7ce0-48bf-b218-ce7c62ca1a6e"
      },
      "execution_count": 25,
      "outputs": [
        {
          "output_type": "display_data",
          "data": {
            "text/plain": [
              "<Figure size 1200x600 with 1 Axes>"
            ],
            "image/png": "[encoded data removed]"
          },
          "metadata": {}
        }
      ]
    },
    {
      "cell_type": "code",
      "source": [
        "nuevas_imgs = [\n",
        "    \"/content/asl_subset/archive/asl_alphabet_test/sorted_test/A/A_test.jpg\",\n",
        "    \"/content/asl_subset/archive/asl_alphabet_test/sorted_test/B/B_test.jpg\",\n",
        "    \"/content/asl_subset/archive/asl_alphabet_test/sorted_test/C/C_test.jpg\"\n",
        "]\n",
        "\n",
        "for img_path in nuevas_imgs:\n",
        "    img = image.load_img(img_path, target_size=(64,64))\n",
        "    img_array = image.img_to_array(img) / 255.0\n",
        "    img_array = np.expand_dims(img_array, axis=0)\n",
        "    pred_prob = model.predict(img_array)\n",
        "    pred_class = np.argmax(pred_prob)\n",
        "    labels = {v:k for k,v in test_generator.class_indices.items()}\n",
        "    print(f\"Imagen: {img_path.split('/')[-1]} → Predicción: {labels[pred_class]}\")"
      ],
      "metadata": {
        "colab": {
          "base_uri": "https://localhost:8080/"
        },
        "id": "nPnK0INuxL_S",
        "outputId": "cc763238-8901-4d43-9853-23bbc0c3766b"
      },
      "execution_count": 26,
      "outputs": [
        {
          "output_type": "stream",
          "name": "stdout",
          "text": [
            "\u001b[1m1/1\u001b[0m \u001b[32m━━━━━━━━━━━━━━━━━━━━\u001b[0m\u001b[37m\u001b[0m \u001b[1m0s\u001b[0m 38ms/step\n",
            "Imagen: A_test.jpg → Predicción: A\n",
            "\u001b[1m1/1\u001b[0m \u001b[32m━━━━━━━━━━━━━━━━━━━━\u001b[0m\u001b[37m\u001b[0m \u001b[1m0s\u001b[0m 53ms/step\n",
            "Imagen: B_test.jpg → Predicción: B\n",
            "\u001b[1m1/1\u001b[0m \u001b[32m━━━━━━━━━━━━━━━━━━━━\u001b[0m\u001b[37m\u001b[0m \u001b[1m0s\u001b[0m 40ms/step\n",
            "Imagen: C_test.jpg → Predicción: C\n"
          ]
        }
      ]
    },
    {
      "cell_type": "code",
      "source": [
        "from tensorflow.keras.preprocessing.image import ImageDataGenerator\n",
        "\n",
        "# Aumento de datos para entrenamiento\n",
        "train_datagen = ImageDataGenerator(\n",
        "    rescale=1./255,\n",
        "    rotation_range=20,       # Rota aleatoriamente hasta 20 grados\n",
        "    width_shift_range=0.2,   # Mueve horizontalmente hasta 20%\n",
        "    height_shift_range=0.2,  # Mueve verticalmente hasta 20%\n",
        "    shear_range=0.2,         # Cizalla\n",
        "    zoom_range=0.2,          # Zoom aleatorio\n",
        "    horizontal_flip=True,    # Volteo horizontal\n",
        "    fill_mode='nearest',     # Relleno de píxeles faltantes\n",
        "    validation_split=0.2     # 20% de los datos para validación\n",
        ")\n",
        "\n",
        "# Generadores\n",
        "train_generator = train_datagen.flow_from_directory(\n",
        "    '/content/asl_subset/archive/asl_alphabet_train/asl_alphabet_train',\n",
        "    target_size=(64,64),\n",
        "    batch_size=32,\n",
        "    class_mode='categorical',\n",
        "    subset='training'\n",
        ")\n",
        "\n",
        "val_generator = train_datagen.flow_from_directory(\n",
        "    '/content/asl_subset/archive/asl_alphabet_train/asl_alphabet_train',\n",
        "    target_size=(64,64),\n",
        "    batch_size=32,\n",
        "    class_mode='categorical',\n",
        "    subset='validation'\n",
        ")\n",
        "\n",
        "# Test sin augmentación, solo normalización\n",
        "test_datagen = ImageDataGenerator(rescale=1./255)\n",
        "test_generator = test_datagen.flow_from_directory(\n",
        "    '/content/asl_subset/archive/asl_alphabet_test/asl_alphabet_test',\n",
        "    target_size=(64,64),\n",
        "    batch_size=32,\n",
        "    class_mode='categorical',\n",
        "    shuffle=False\n",
        ")\n"
      ],
      "metadata": {
        "colab": {
          "base_uri": "https://localhost:8080/"
        },
        "id": "qqkL_4Ttxohn",
        "outputId": "9a0fe105-ca7d-4e99-b424-a1948c67c1d3"
      },
      "execution_count": 27,
      "outputs": [
        {
          "output_type": "stream",
          "name": "stdout",
          "text": [
            "Found 7200 images belonging to 3 classes.\n",
            "Found 1800 images belonging to 3 classes.\n",
            "Found 0 images belonging to 0 classes.\n"
          ]
        }
      ]
    },
    {
      "cell_type": "code",
      "source": [],
      "metadata": {
        "id": "tsdLXOO_xrZ1"
      },
      "execution_count": null,
      "outputs": []
    },
    {
      "cell_type": "code",
      "source": [
        "import json\n",
        "labels = {v:k for k,v in train_generator.class_indices.items()}\n",
        "with open(\"labels.json\",\"w\") as f:\n",
        "    json.dump(labels, f)\n",
        "print(labels)  # ej: {0:\"A\", 1:\"B\", 2:\"C\"}\n"
      ],
      "metadata": {
        "colab": {
          "base_uri": "https://localhost:8080/"
        },
        "id": "DCyeznUYsW5N",
        "outputId": "6ffccdbc-d88c-4297-a402-b2648c089ad0"
      },
      "execution_count": 20,
      "outputs": [
        {
          "output_type": "stream",
          "name": "stdout",
          "text": [
            "{0: 'A', 1: 'B', 2: 'C'}\n"
          ]
        }
      ]
    }
  ],
  "metadata": {
    "colab": {
      "provenance": []
    },
    "kernelspec": {
      "display_name": "Python 3",
      "name": "python3"
    },
    "language_info": {
      "name": "python"
    }
  },
  "nbformat": 4,
  "nbformat_minor": 0
}